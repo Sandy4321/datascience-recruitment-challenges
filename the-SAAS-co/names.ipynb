{
 "cells": [
  {
   "cell_type": "markdown",
   "metadata": {},
   "source": [
    "### Overview of the solution:\n",
    "\n",
    "- read first and last names from the dbpedia dataset and read non-names \n",
    "- all names and words are split into 3 categories: \n",
    "    - `train` for trainig the model\n",
    "    - `validation` for parameter tuning\n",
    "    - `test` for final evaluation\n",
    "- building the training data:\n",
    "    - positive labels: randomly sampling first and second name\n",
    "    - negative labels: word + first name and last name + word\n",
    "    - negative labels: randomly sampling words\n",
    "    - only 1/8 of labels are positive\n",
    "- model is SVM with L1 penalty on character-based ngrams, n=2,3,4"
   ]
  },
  {
   "cell_type": "code",
   "execution_count": 1,
   "metadata": {
    "collapsed": false
   },
   "outputs": [
    {
     "name": "stderr",
     "output_type": "stream",
     "text": [
      "/home/agrigorev/anaconda2/lib/python2.7/site-packages/matplotlib/font_manager.py:273: UserWarning: Matplotlib is building the font cache using fc-list. This may take a moment.\n",
      "  warnings.warn('Matplotlib is building the font cache using fc-list. This may take a moment.')\n"
     ]
    }
   ],
   "source": [
    "import re\n",
    "import codecs\n",
    "\n",
    "from time import time\n",
    "\n",
    "from tqdm import tqdm\n",
    "import numpy as np\n",
    "import pandas as pd\n",
    "\n",
    "from sklearn.feature_extraction.text import TfidfVectorizer\n",
    "from sklearn.svm import LinearSVC\n",
    "from sklearn.metrics import roc_auc_score, confusion_matrix\n",
    "\n",
    "import seaborn as sns\n",
    "%matplotlib inline"
   ]
  },
  {
   "cell_type": "code",
   "execution_count": 2,
   "metadata": {
    "collapsed": false
   },
   "outputs": [
    {
     "name": "stderr",
     "output_type": "stream",
     "text": []
    }
   ],
   "source": [
    "first_names = set()\n",
    "last_names = set()\n",
    "\n",
    "with codecs.open('persondata_en.nt', 'r', 'utf8') as names:\n",
    "    for line in tqdm(names):\n",
    "        if '<http://xmlns.com/foaf/0.1/surname>' in line and \"@en\" in line:\n",
    "            match = re.search('\"(.+?)\"@en', line)\n",
    "            if match:\n",
    "                last_names.add(match.group(1).lower())\n",
    "        elif '<http://xmlns.com/foaf/0.1/givenName>' in line and \"@en\" in line:\n",
    "            match = re.search('\"(.+?)\"@en', line)\n",
    "            if match:\n",
    "                first_names.add(match.group(1).lower())"
   ]
  },
  {
   "cell_type": "code",
   "execution_count": 3,
   "metadata": {
    "collapsed": false
   },
   "outputs": [
    {
     "data": {
      "text/plain": [
       "(206054, 331377)"
      ]
     },
     "execution_count": 3,
     "metadata": {},
     "output_type": "execute_result"
    }
   ],
   "source": [
    "len(first_names), len(last_names)"
   ]
  },
  {
   "cell_type": "code",
   "execution_count": 4,
   "metadata": {
    "collapsed": true
   },
   "outputs": [],
   "source": [
    "first_names = sorted(first_names)\n",
    "last_names = sorted(last_names)"
   ]
  },
  {
   "cell_type": "code",
   "execution_count": 5,
   "metadata": {
    "collapsed": false
   },
   "outputs": [
    {
     "data": {
      "text/plain": [
       "[u'%20johann%20michael',\n",
       " u\"'''ali sayyid muhamed mustafa al-\",\n",
       " u\"'''friedrich f.\",\n",
       " u\"'''karl georg otto willibald\",\n",
       " u\"'''lester whyland\",\n",
       " u\"'''major general salihu zaway\",\n",
       " u\"'''philibert-emmanuel de froulay de\",\n",
       " u\"'aisake\",\n",
       " u\"'ana\",\n",
       " u\"'antigone\"]"
      ]
     },
     "execution_count": 5,
     "metadata": {},
     "output_type": "execute_result"
    }
   ],
   "source": [
    "first_names[:10]"
   ]
  },
  {
   "cell_type": "code",
   "execution_count": 6,
   "metadata": {
    "collapsed": true
   },
   "outputs": [],
   "source": [
    "first_names = [n for n in first_names if n.isalpha() and len(n) >= 3]\n",
    "last_names = [n for n in last_names if n.isalpha() and len(n) >= 3]"
   ]
  },
  {
   "cell_type": "code",
   "execution_count": 7,
   "metadata": {
    "collapsed": false
   },
   "outputs": [
    {
     "name": "stdout",
     "output_type": "stream",
     "text": [
      "[u'aaaa', u'aaaron', u'aabid', u'aad', u'aadarsh', u'aadel', u'aadesh', u'aadhavan', u'aadil', u'aaditya']\n",
      "[u'aab', u'aabech', u'aabel', u'aaberg', u'aaboe', u'aaboubou', u'aabrek', u'aabrekk', u'aabrink', u'aabroo']\n"
     ]
    }
   ],
   "source": [
    "print first_names[:10]\n",
    "print last_names[:10]"
   ]
  },
  {
   "cell_type": "code",
   "execution_count": 8,
   "metadata": {
    "collapsed": false
   },
   "outputs": [
    {
     "data": {
      "text/plain": [
       "(73738, 282833)"
      ]
     },
     "execution_count": 8,
     "metadata": {},
     "output_type": "execute_result"
    }
   ],
   "source": [
    "len(first_names), len(last_names)"
   ]
  },
  {
   "cell_type": "code",
   "execution_count": 9,
   "metadata": {
    "collapsed": true
   },
   "outputs": [],
   "source": [
    "with codecs.open('corncob_lowercase.txt', 'r', 'utf-8') as words:\n",
    "    non_names = {w.strip() for w in words}\n",
    "\n",
    "non_names = non_names - set(first_names)- set(last_names)\n",
    "non_names = sorted(non_names)"
   ]
  },
  {
   "cell_type": "code",
   "execution_count": 10,
   "metadata": {
    "collapsed": false
   },
   "outputs": [
    {
     "name": "stdout",
     "output_type": "stream",
     "text": [
      "[u'aardvark', u'aardwolf', u'aback', u'abaft', u'abalone', u'abandon', u'abandoned', u'abandonment', u'abandons', u'abase']\n"
     ]
    }
   ],
   "source": [
    "print non_names[:10]"
   ]
  },
  {
   "cell_type": "code",
   "execution_count": 11,
   "metadata": {
    "collapsed": false
   },
   "outputs": [
    {
     "data": {
      "text/plain": [
       "50665"
      ]
     },
     "execution_count": 11,
     "metadata": {},
     "output_type": "execute_result"
    }
   ],
   "source": [
    "len(non_names)"
   ]
  },
  {
   "cell_type": "code",
   "execution_count": 12,
   "metadata": {
    "collapsed": false
   },
   "outputs": [],
   "source": [
    "def train_val_test(input, seed=1):\n",
    "    np.random.seed(seed)\n",
    "    n = len(input) / 5\n",
    "    test = set(np.random.choice(input, size=n, replace=False))\n",
    "    alltrain = set(input) - test\n",
    "\n",
    "    n = len(alltrain) / 5\n",
    "    val = set(np.random.choice(list(alltrain), size=n, replace=False))\n",
    "    train = alltrain - val\n",
    "    return list(train), list(val), list(test)\n",
    "\n",
    "first_train, first_val, first_test = train_val_test(first_names)\n",
    "last_train, last_val, last_test = train_val_test(last_names)\n",
    "words_train, words_val, words_test = train_val_test(non_names)"
   ]
  },
  {
   "cell_type": "code",
   "execution_count": 13,
   "metadata": {
    "collapsed": false
   },
   "outputs": [
    {
     "name": "stdout",
     "output_type": "stream",
     "text": [
      "[u'fawn', u'royengyot', u'hisami', u'darryll', u'viyaket', u'roppyaku', u'woods', u'fawz', u'gavan', u'whestley']\n",
      "[u'taunggwin', u'ethelda', u'manshichi', u'kayacan', u'sonja', u'ioana', u'amilton', u'suzann', u'foluke', u'francesco']\n",
      "[u'mohini', u'arihiro', u'tajudeen', u'pradeeth', u'evalyn', u'cobie', u'gailene', u'keno', u'giennadij', u'elving']\n",
      "\n",
      "[u'shimmell', u'tsukino', u'clottes', u'akogyiram', u'verplank', u'nualart', u'clottey', u'paizs', u'gavai', u'shatzky']\n",
      "[u'golyaev', u'kurtagic', u'sowell', u'blondeau', u'tilton', u'rudnay', u'woods', u'jardler', u'gandhirajan', u'woody']\n",
      "[u'poovarawan', u'dachev', u'turisbekov', u'schwoch', u'mccomish', u'teibert', u'batticciotto', u'seifen', u'klatka', u'melosh']\n"
     ]
    }
   ],
   "source": [
    "print first_train[:10]\n",
    "print first_val[:10]\n",
    "print first_test[:10]\n",
    "\n",
    "print\n",
    "\n",
    "print last_train[:10]\n",
    "print last_val[:10]\n",
    "print last_test[:10]"
   ]
  },
  {
   "cell_type": "markdown",
   "metadata": {},
   "source": [
    "## Preparing the data"
   ]
  },
  {
   "cell_type": "code",
   "execution_count": 14,
   "metadata": {
    "collapsed": false
   },
   "outputs": [],
   "source": [
    "def prepare_data(first, last, words, target_size, seed=1):\n",
    "    np.random.seed(seed)\n",
    "\n",
    "    positive_n = target_size / 8\n",
    "    negagive_n = 5 * target_size / 8\n",
    "\n",
    "\n",
    "    valid_names = pd.DataFrame({\n",
    "            'first': np.random.choice(first, size=positive_n), \n",
    "            'second': np.random.choice(last, size=positive_n)})\n",
    "    valid_names['target'] = 1\n",
    "\n",
    "    part_name_1 = pd.DataFrame({\n",
    "            'first': np.random.choice(words, size=positive_n),\n",
    "            'second': np.random.choice(first, size=positive_n), \n",
    "            })\n",
    "    part_name_1['target'] = 0\n",
    "\n",
    "    part_name_2 = pd.DataFrame({\n",
    "            'first': np.random.choice(last, size=positive_n),\n",
    "            'second': np.random.choice(words, size=positive_n)\n",
    "            })\n",
    "    part_name_2['target'] = 0\n",
    "\n",
    "    not_names = pd.DataFrame({\n",
    "            'first': np.random.choice(words, size=negagive_n),\n",
    "            'second': np.random.choice(words, size=negagive_n)\n",
    "            })\n",
    "    not_names['target'] = 0\n",
    "\n",
    "    result = pd.concat([valid_names, part_name_1, part_name_2])\n",
    "    result = pd.concat([result, not_names]).reset_index(drop=1)\n",
    "\n",
    "    result['candidate'] = result['first'] + ' ' + result['second']\n",
    "    del result['first'], result['second']\n",
    "    result = result.reindex(np.random.permutation(result.index))\n",
    "    return result"
   ]
  },
  {
   "cell_type": "code",
   "execution_count": 15,
   "metadata": {
    "collapsed": false
   },
   "outputs": [
    {
     "data": {
      "text/html": [
       "<div>\n",
       "<table border=\"1\" class=\"dataframe\">\n",
       "  <thead>\n",
       "    <tr style=\"text-align: right;\">\n",
       "      <th></th>\n",
       "      <th>target</th>\n",
       "      <th>candidate</th>\n",
       "    </tr>\n",
       "  </thead>\n",
       "  <tbody>\n",
       "    <tr>\n",
       "      <th>426181</th>\n",
       "      <td>0</td>\n",
       "      <td>nightmares extendible</td>\n",
       "    </tr>\n",
       "    <tr>\n",
       "      <th>418277</th>\n",
       "      <td>0</td>\n",
       "      <td>wellrounded sieving</td>\n",
       "    </tr>\n",
       "    <tr>\n",
       "      <th>56705</th>\n",
       "      <td>1</td>\n",
       "      <td>miwa jongsma</td>\n",
       "    </tr>\n",
       "    <tr>\n",
       "      <th>206685</th>\n",
       "      <td>0</td>\n",
       "      <td>undesired warps</td>\n",
       "    </tr>\n",
       "    <tr>\n",
       "      <th>216313</th>\n",
       "      <td>0</td>\n",
       "      <td>assassinating responsible</td>\n",
       "    </tr>\n",
       "  </tbody>\n",
       "</table>\n",
       "</div>"
      ],
      "text/plain": [
       "        target                  candidate\n",
       "426181       0      nightmares extendible\n",
       "418277       0        wellrounded sieving\n",
       "56705        1               miwa jongsma\n",
       "206685       0            undesired warps\n",
       "216313       0  assassinating responsible"
      ]
     },
     "execution_count": 15,
     "metadata": {},
     "output_type": "execute_result"
    }
   ],
   "source": [
    "df_train = prepare_data(first_test, last_test, words_train, target_size=500000)\n",
    "df_train.head()"
   ]
  },
  {
   "cell_type": "code",
   "execution_count": 16,
   "metadata": {
    "collapsed": false
   },
   "outputs": [
    {
     "data": {
      "text/plain": [
       "0.125"
      ]
     },
     "execution_count": 16,
     "metadata": {},
     "output_type": "execute_result"
    }
   ],
   "source": [
    "df_train.target.mean()"
   ]
  },
  {
   "cell_type": "code",
   "execution_count": 17,
   "metadata": {
    "collapsed": false
   },
   "outputs": [
    {
     "data": {
      "text/html": [
       "<div>\n",
       "<table border=\"1\" class=\"dataframe\">\n",
       "  <thead>\n",
       "    <tr style=\"text-align: right;\">\n",
       "      <th></th>\n",
       "      <th>target</th>\n",
       "      <th>candidate</th>\n",
       "    </tr>\n",
       "  </thead>\n",
       "  <tbody>\n",
       "    <tr>\n",
       "      <th>141970</th>\n",
       "      <td>0</td>\n",
       "      <td>contractually muggy</td>\n",
       "    </tr>\n",
       "    <tr>\n",
       "      <th>9616</th>\n",
       "      <td>1</td>\n",
       "      <td>tangia macgiollaphadraig</td>\n",
       "    </tr>\n",
       "    <tr>\n",
       "      <th>14536</th>\n",
       "      <td>1</td>\n",
       "      <td>dul duminda</td>\n",
       "    </tr>\n",
       "    <tr>\n",
       "      <th>74275</th>\n",
       "      <td>0</td>\n",
       "      <td>ungerminated deepens</td>\n",
       "    </tr>\n",
       "    <tr>\n",
       "      <th>18725</th>\n",
       "      <td>1</td>\n",
       "      <td>gon azimaei</td>\n",
       "    </tr>\n",
       "  </tbody>\n",
       "</table>\n",
       "</div>"
      ],
      "text/plain": [
       "        target                 candidate\n",
       "141970       0       contractually muggy\n",
       "9616         1  tangia macgiollaphadraig\n",
       "14536        1               dul duminda\n",
       "74275        0      ungerminated deepens\n",
       "18725        1               gon azimaei"
      ]
     },
     "execution_count": 17,
     "metadata": {},
     "output_type": "execute_result"
    }
   ],
   "source": [
    "df_val = prepare_data(first_val, last_val, words_val, target_size=150000)\n",
    "df_val.head()"
   ]
  },
  {
   "cell_type": "code",
   "execution_count": 18,
   "metadata": {
    "collapsed": false
   },
   "outputs": [],
   "source": [
    "tfidf = TfidfVectorizer(analyzer='char', ngram_range=(2, 4), min_df=10)\n",
    "X = tfidf.fit_transform(df_train.candidate)\n",
    "y = df_train.target"
   ]
  },
  {
   "cell_type": "code",
   "execution_count": 19,
   "metadata": {
    "collapsed": false
   },
   "outputs": [
    {
     "data": {
      "text/plain": [
       "(500000, 58126)"
      ]
     },
     "execution_count": 19,
     "metadata": {},
     "output_type": "execute_result"
    }
   ],
   "source": [
    "X.shape"
   ]
  },
  {
   "cell_type": "code",
   "execution_count": 20,
   "metadata": {
    "collapsed": true
   },
   "outputs": [],
   "source": [
    "X_val = tfidf.transform(df_val.candidate)\n",
    "y_val = df_val.target"
   ]
  },
  {
   "cell_type": "code",
   "execution_count": 21,
   "metadata": {
    "collapsed": false
   },
   "outputs": [
    {
     "data": {
      "text/plain": [
       "<matplotlib.axes._subplots.AxesSubplot at 0x7f216d575ad0>"
      ]
     },
     "execution_count": 21,
     "metadata": {},
     "output_type": "execute_result"
    },
    {
     "data": {
      "image/png": "[encoded data removed]",
      "text/plain": [
       "<matplotlib.figure.Figure at 0x7f21a4219590>"
      ]
     },
     "metadata": {},
     "output_type": "display_data"
    }
   ],
   "source": [
    "sns.distplot(X.sum(axis=1))\n",
    "sns.distplot(X_val.sum(axis=1))"
   ]
  },
  {
   "cell_type": "code",
   "execution_count": 22,
   "metadata": {
    "collapsed": false
   },
   "outputs": [
    {
     "name": "stdout",
     "output_type": "stream",
     "text": [
      "fit for C=0.000100 took 2.891s\n",
      "auc=0.50000\n",
      "fit for C=0.001000 took 4.409s\n",
      "auc=0.87314\n",
      "fit for C=0.010000 took 19.434s\n",
      "auc=0.95043\n",
      "fit for C=0.100000 took 178.173s\n",
      "auc=0.97817\n",
      "fit for C=0.500000 took 203.926s\n",
      "auc=0.98282\n"
     ]
    }
   ],
   "source": [
    "for C in [0.0001, 0.001, 0.01, 0.1, 0.5]:\n",
    "    t0 = time()\n",
    "    svm = LinearSVC(penalty='l1', dual=False, random_state=1, C=C)\n",
    "    svm.fit(X, y)\n",
    "\n",
    "    print 'fit for C=%f took %0.3fs' % (C, time() - t0)\n",
    "    res = svm.decision_function(X_val)\n",
    "    auc = roc_auc_score(y_val, res)\n",
    "    print 'auc=%0.5f' % (auc)"
   ]
  },
  {
   "cell_type": "markdown",
   "metadata": {},
   "source": [
    "The best auc is $98\\%$ obrained with $C=0.5$. Maybe larger $C$ would work better, but we'll use $0.5$\n",
    "\n",
    "Let's retrain using this $C$ and all train+val dataset. "
   ]
  },
  {
   "cell_type": "code",
   "execution_count": 23,
   "metadata": {
    "collapsed": false
   },
   "outputs": [
    {
     "data": {
      "text/plain": [
       "(650000, 2)"
      ]
     },
     "execution_count": 23,
     "metadata": {},
     "output_type": "execute_result"
    }
   ],
   "source": [
    "df_train_full = pd.concat([df_train, df_val])\n",
    "df_train_full.shape"
   ]
  },
  {
   "cell_type": "code",
   "execution_count": 24,
   "metadata": {
    "collapsed": false,
    "scrolled": true
   },
   "outputs": [
    {
     "data": {
      "text/html": [
       "<div>\n",
       "<table border=\"1\" class=\"dataframe\">\n",
       "  <thead>\n",
       "    <tr style=\"text-align: right;\">\n",
       "      <th></th>\n",
       "      <th>target</th>\n",
       "      <th>candidate</th>\n",
       "    </tr>\n",
       "  </thead>\n",
       "  <tbody>\n",
       "    <tr>\n",
       "      <th>92649</th>\n",
       "      <td>0</td>\n",
       "      <td>rinds businessmen</td>\n",
       "    </tr>\n",
       "    <tr>\n",
       "      <th>6618</th>\n",
       "      <td>1</td>\n",
       "      <td>lurlene kotrikadze</td>\n",
       "    </tr>\n",
       "    <tr>\n",
       "      <th>2952</th>\n",
       "      <td>1</td>\n",
       "      <td>vilhem zonzolo</td>\n",
       "    </tr>\n",
       "    <tr>\n",
       "      <th>57321</th>\n",
       "      <td>0</td>\n",
       "      <td>habitforming masquerades</td>\n",
       "    </tr>\n",
       "    <tr>\n",
       "      <th>17841</th>\n",
       "      <td>1</td>\n",
       "      <td>assumpta vecsey</td>\n",
       "    </tr>\n",
       "  </tbody>\n",
       "</table>\n",
       "</div>"
      ],
      "text/plain": [
       "       target                 candidate\n",
       "92649       0         rinds businessmen\n",
       "6618        1        lurlene kotrikadze\n",
       "2952        1            vilhem zonzolo\n",
       "57321       0  habitforming masquerades\n",
       "17841       1           assumpta vecsey"
      ]
     },
     "execution_count": 24,
     "metadata": {},
     "output_type": "execute_result"
    }
   ],
   "source": [
    "df_test = prepare_data(first_test, last_test, words_test, target_size=150000)\n",
    "df_test.head()"
   ]
  },
  {
   "cell_type": "code",
   "execution_count": 25,
   "metadata": {
    "collapsed": true
   },
   "outputs": [],
   "source": [
    "tfidf = TfidfVectorizer(analyzer='char', ngram_range=(2, 4), min_df=10)\n",
    "X = tfidf.fit_transform(df_train_full.candidate)\n",
    "y = df_train_full.target"
   ]
  },
  {
   "cell_type": "code",
   "execution_count": 26,
   "metadata": {
    "collapsed": true
   },
   "outputs": [],
   "source": [
    "X_test = tfidf.transform(df_test.candidate)\n",
    "y_test = df_test.target"
   ]
  },
  {
   "cell_type": "code",
   "execution_count": 27,
   "metadata": {
    "collapsed": false
   },
   "outputs": [
    {
     "name": "stdout",
     "output_type": "stream",
     "text": [
      "fit for C=0.500000 took 315.983s\n",
      "auc=0.98966\n"
     ]
    }
   ],
   "source": [
    "best_C = 0.5\n",
    "\n",
    "t0 = time()\n",
    "svm = LinearSVC(penalty='l1', dual=False, random_state=1, C=best_C)\n",
    "svm.fit(X, y)\n",
    "\n",
    "print 'fit for C=%f took %0.3fs' % (C, time() - t0)\n",
    "res = svm.decision_function(X_test)\n",
    "auc = roc_auc_score(y_test, res)\n",
    "print 'auc=%0.5f' % (auc)"
   ]
  },
  {
   "cell_type": "code",
   "execution_count": 28,
   "metadata": {
    "collapsed": false
   },
   "outputs": [
    {
     "name": "stdout",
     "output_type": "stream",
     "text": [
      "precision = 0.9855\n",
      "recall    = 0.9753\n",
      "f1        = 0.9804\n"
     ]
    }
   ],
   "source": [
    "predicted_labels = (res > 0).astype(int)\n",
    "(tp, fn), (fp, tn) = confusion_matrix(y_test, predicted_labels) \n",
    "\n",
    "p = 1.0 * tp / (tp + fp)\n",
    "r = 1.0 * tp / (tp + fn)\n",
    "print 'precision = %.4f' % p\n",
    "print 'recall    = %.4f' % r\n",
    "print 'f1        = %.4f' % (2 * p * r / (p + r))"
   ]
  },
  {
   "cell_type": "markdown",
   "metadata": {},
   "source": [
    "Examples of correctly and incorrectly classified items"
   ]
  },
  {
   "cell_type": "code",
   "execution_count": 29,
   "metadata": {
    "collapsed": false
   },
   "outputs": [
    {
     "name": "stdout",
     "output_type": "stream",
     "text": [
      "incorrectly classified\n"
     ]
    },
    {
     "data": {
      "text/html": [
       "<div>\n",
       "<table border=\"1\" class=\"dataframe\">\n",
       "  <thead>\n",
       "    <tr style=\"text-align: right;\">\n",
       "      <th></th>\n",
       "      <th>target</th>\n",
       "      <th>predicted</th>\n",
       "      <th>candidate</th>\n",
       "    </tr>\n",
       "  </thead>\n",
       "  <tbody>\n",
       "    <tr>\n",
       "      <th>38303</th>\n",
       "      <td>0</td>\n",
       "      <td>1</td>\n",
       "      <td>joessang sorghum</td>\n",
       "    </tr>\n",
       "    <tr>\n",
       "      <th>45864</th>\n",
       "      <td>0</td>\n",
       "      <td>1</td>\n",
       "      <td>gevay soubriquet</td>\n",
       "    </tr>\n",
       "    <tr>\n",
       "      <th>10439</th>\n",
       "      <td>1</td>\n",
       "      <td>0</td>\n",
       "      <td>mortimer knicely</td>\n",
       "    </tr>\n",
       "    <tr>\n",
       "      <th>86713</th>\n",
       "      <td>0</td>\n",
       "      <td>1</td>\n",
       "      <td>divorce afield</td>\n",
       "    </tr>\n",
       "    <tr>\n",
       "      <th>33903</th>\n",
       "      <td>0</td>\n",
       "      <td>1</td>\n",
       "      <td>stolen hardeo</td>\n",
       "    </tr>\n",
       "    <tr>\n",
       "      <th>49232</th>\n",
       "      <td>0</td>\n",
       "      <td>1</td>\n",
       "      <td>grasdorp imbue</td>\n",
       "    </tr>\n",
       "    <tr>\n",
       "      <th>55410</th>\n",
       "      <td>0</td>\n",
       "      <td>1</td>\n",
       "      <td>mholo stylus</td>\n",
       "    </tr>\n",
       "    <tr>\n",
       "      <th>16287</th>\n",
       "      <td>1</td>\n",
       "      <td>0</td>\n",
       "      <td>fitz hecking</td>\n",
       "    </tr>\n",
       "    <tr>\n",
       "      <th>5343</th>\n",
       "      <td>1</td>\n",
       "      <td>0</td>\n",
       "      <td>kunga provest</td>\n",
       "    </tr>\n",
       "    <tr>\n",
       "      <th>10217</th>\n",
       "      <td>1</td>\n",
       "      <td>0</td>\n",
       "      <td>deck magrane</td>\n",
       "    </tr>\n",
       "    <tr>\n",
       "      <th>86326</th>\n",
       "      <td>0</td>\n",
       "      <td>1</td>\n",
       "      <td>adagio corsica</td>\n",
       "    </tr>\n",
       "    <tr>\n",
       "      <th>40647</th>\n",
       "      <td>0</td>\n",
       "      <td>1</td>\n",
       "      <td>chiodaroli plazas</td>\n",
       "    </tr>\n",
       "    <tr>\n",
       "      <th>52414</th>\n",
       "      <td>0</td>\n",
       "      <td>1</td>\n",
       "      <td>iljine suckles</td>\n",
       "    </tr>\n",
       "    <tr>\n",
       "      <th>6834</th>\n",
       "      <td>1</td>\n",
       "      <td>0</td>\n",
       "      <td>narvel hying</td>\n",
       "    </tr>\n",
       "    <tr>\n",
       "      <th>9631</th>\n",
       "      <td>1</td>\n",
       "      <td>0</td>\n",
       "      <td>trevelyan annexy</td>\n",
       "    </tr>\n",
       "    <tr>\n",
       "      <th>32138</th>\n",
       "      <td>0</td>\n",
       "      <td>1</td>\n",
       "      <td>so hyun</td>\n",
       "    </tr>\n",
       "    <tr>\n",
       "      <th>36467</th>\n",
       "      <td>0</td>\n",
       "      <td>1</td>\n",
       "      <td>municipal gretchenosgood</td>\n",
       "    </tr>\n",
       "    <tr>\n",
       "      <th>42330</th>\n",
       "      <td>0</td>\n",
       "      <td>1</td>\n",
       "      <td>kenicus rampant</td>\n",
       "    </tr>\n",
       "    <tr>\n",
       "      <th>53368</th>\n",
       "      <td>0</td>\n",
       "      <td>1</td>\n",
       "      <td>heslip mantissa</td>\n",
       "    </tr>\n",
       "    <tr>\n",
       "      <th>20438</th>\n",
       "      <td>0</td>\n",
       "      <td>1</td>\n",
       "      <td>eskimo iulian</td>\n",
       "    </tr>\n",
       "  </tbody>\n",
       "</table>\n",
       "</div>"
      ],
      "text/plain": [
       "       target  predicted                 candidate\n",
       "38303       0          1          joessang sorghum\n",
       "45864       0          1          gevay soubriquet\n",
       "10439       1          0          mortimer knicely\n",
       "86713       0          1            divorce afield\n",
       "33903       0          1             stolen hardeo\n",
       "49232       0          1            grasdorp imbue\n",
       "55410       0          1              mholo stylus\n",
       "16287       1          0              fitz hecking\n",
       "5343        1          0             kunga provest\n",
       "10217       1          0              deck magrane\n",
       "86326       0          1            adagio corsica\n",
       "40647       0          1         chiodaroli plazas\n",
       "52414       0          1            iljine suckles\n",
       "6834        1          0              narvel hying\n",
       "9631        1          0          trevelyan annexy\n",
       "32138       0          1                   so hyun\n",
       "36467       0          1  municipal gretchenosgood\n",
       "42330       0          1           kenicus rampant\n",
       "53368       0          1           heslip mantissa\n",
       "20438       0          1             eskimo iulian"
      ]
     },
     "execution_count": 29,
     "metadata": {},
     "output_type": "execute_result"
    }
   ],
   "source": [
    "results = df_test.copy()\n",
    "results.insert(1, 'predicted', predicted_labels)\n",
    "\n",
    "print 'incorrectly classified'\n",
    "results[predicted_labels != y_test].sample(n=20, random_state=1)"
   ]
  },
  {
   "cell_type": "code",
   "execution_count": 31,
   "metadata": {
    "collapsed": false,
    "scrolled": true
   },
   "outputs": [
    {
     "name": "stdout",
     "output_type": "stream",
     "text": [
      "names correctly classified\n"
     ]
    },
    {
     "data": {
      "text/html": [
       "<div>\n",
       "<table border=\"1\" class=\"dataframe\">\n",
       "  <thead>\n",
       "    <tr style=\"text-align: right;\">\n",
       "      <th></th>\n",
       "      <th>target</th>\n",
       "      <th>predicted</th>\n",
       "      <th>candidate</th>\n",
       "    </tr>\n",
       "  </thead>\n",
       "  <tbody>\n",
       "    <tr>\n",
       "      <th>13421</th>\n",
       "      <td>1</td>\n",
       "      <td>1</td>\n",
       "      <td>motlatsi lautenberg</td>\n",
       "    </tr>\n",
       "    <tr>\n",
       "      <th>4396</th>\n",
       "      <td>1</td>\n",
       "      <td>1</td>\n",
       "      <td>ozalp liljevalch</td>\n",
       "    </tr>\n",
       "    <tr>\n",
       "      <th>16917</th>\n",
       "      <td>1</td>\n",
       "      <td>1</td>\n",
       "      <td>judianne vukovic</td>\n",
       "    </tr>\n",
       "    <tr>\n",
       "      <th>6137</th>\n",
       "      <td>1</td>\n",
       "      <td>1</td>\n",
       "      <td>janni balakian</td>\n",
       "    </tr>\n",
       "    <tr>\n",
       "      <th>1983</th>\n",
       "      <td>1</td>\n",
       "      <td>1</td>\n",
       "      <td>gerardo simkhovitch</td>\n",
       "    </tr>\n",
       "    <tr>\n",
       "      <th>2367</th>\n",
       "      <td>1</td>\n",
       "      <td>1</td>\n",
       "      <td>ahrn eisenhoffer</td>\n",
       "    </tr>\n",
       "    <tr>\n",
       "      <th>7326</th>\n",
       "      <td>1</td>\n",
       "      <td>1</td>\n",
       "      <td>rasheim bertling</td>\n",
       "    </tr>\n",
       "    <tr>\n",
       "      <th>13153</th>\n",
       "      <td>1</td>\n",
       "      <td>1</td>\n",
       "      <td>espy bertka</td>\n",
       "    </tr>\n",
       "    <tr>\n",
       "      <th>10323</th>\n",
       "      <td>1</td>\n",
       "      <td>1</td>\n",
       "      <td>dattatraya milliron</td>\n",
       "    </tr>\n",
       "    <tr>\n",
       "      <th>2084</th>\n",
       "      <td>1</td>\n",
       "      <td>1</td>\n",
       "      <td>shengwu maggard</td>\n",
       "    </tr>\n",
       "  </tbody>\n",
       "</table>\n",
       "</div>"
      ],
      "text/plain": [
       "       target  predicted            candidate\n",
       "13421       1          1  motlatsi lautenberg\n",
       "4396        1          1     ozalp liljevalch\n",
       "16917       1          1     judianne vukovic\n",
       "6137        1          1       janni balakian\n",
       "1983        1          1  gerardo simkhovitch\n",
       "2367        1          1     ahrn eisenhoffer\n",
       "7326        1          1     rasheim bertling\n",
       "13153       1          1          espy bertka\n",
       "10323       1          1  dattatraya milliron\n",
       "2084        1          1      shengwu maggard"
      ]
     },
     "execution_count": 31,
     "metadata": {},
     "output_type": "execute_result"
    }
   ],
   "source": [
    "print 'names correctly classified'\n",
    "results[(y_test == 1) & (predicted_labels == y_test)].sample(n=10, random_state=1)"
   ]
  },
  {
   "cell_type": "code",
   "execution_count": 32,
   "metadata": {
    "collapsed": false
   },
   "outputs": [
    {
     "name": "stdout",
     "output_type": "stream",
     "text": [
      "not names correctly classified\n"
     ]
    },
    {
     "data": {
      "text/html": [
       "<div>\n",
       "<table border=\"1\" class=\"dataframe\">\n",
       "  <thead>\n",
       "    <tr style=\"text-align: right;\">\n",
       "      <th></th>\n",
       "      <th>target</th>\n",
       "      <th>predicted</th>\n",
       "      <th>candidate</th>\n",
       "    </tr>\n",
       "  </thead>\n",
       "  <tbody>\n",
       "    <tr>\n",
       "      <th>55173</th>\n",
       "      <td>0</td>\n",
       "      <td>0</td>\n",
       "      <td>sakho spitfire</td>\n",
       "    </tr>\n",
       "    <tr>\n",
       "      <th>32040</th>\n",
       "      <td>0</td>\n",
       "      <td>0</td>\n",
       "      <td>lilting sukhrob</td>\n",
       "    </tr>\n",
       "    <tr>\n",
       "      <th>138641</th>\n",
       "      <td>0</td>\n",
       "      <td>0</td>\n",
       "      <td>intifada aniline</td>\n",
       "    </tr>\n",
       "    <tr>\n",
       "      <th>74742</th>\n",
       "      <td>0</td>\n",
       "      <td>0</td>\n",
       "      <td>unloads volatility</td>\n",
       "    </tr>\n",
       "    <tr>\n",
       "      <th>67835</th>\n",
       "      <td>0</td>\n",
       "      <td>0</td>\n",
       "      <td>mutilated megalomaniacs</td>\n",
       "    </tr>\n",
       "    <tr>\n",
       "      <th>73109</th>\n",
       "      <td>0</td>\n",
       "      <td>0</td>\n",
       "      <td>neatest stockade</td>\n",
       "    </tr>\n",
       "    <tr>\n",
       "      <th>142024</th>\n",
       "      <td>0</td>\n",
       "      <td>0</td>\n",
       "      <td>fiord sprats</td>\n",
       "    </tr>\n",
       "    <tr>\n",
       "      <th>120805</th>\n",
       "      <td>0</td>\n",
       "      <td>0</td>\n",
       "      <td>rivulet costed</td>\n",
       "    </tr>\n",
       "    <tr>\n",
       "      <th>75540</th>\n",
       "      <td>0</td>\n",
       "      <td>0</td>\n",
       "      <td>voyaged sinfully</td>\n",
       "    </tr>\n",
       "    <tr>\n",
       "      <th>139648</th>\n",
       "      <td>0</td>\n",
       "      <td>0</td>\n",
       "      <td>placate reluctantly</td>\n",
       "    </tr>\n",
       "  </tbody>\n",
       "</table>\n",
       "</div>"
      ],
      "text/plain": [
       "        target  predicted                candidate\n",
       "55173        0          0           sakho spitfire\n",
       "32040        0          0          lilting sukhrob\n",
       "138641       0          0         intifada aniline\n",
       "74742        0          0       unloads volatility\n",
       "67835        0          0  mutilated megalomaniacs\n",
       "73109        0          0         neatest stockade\n",
       "142024       0          0             fiord sprats\n",
       "120805       0          0           rivulet costed\n",
       "75540        0          0         voyaged sinfully\n",
       "139648       0          0      placate reluctantly"
      ]
     },
     "execution_count": 32,
     "metadata": {},
     "output_type": "execute_result"
    }
   ],
   "source": [
    "print 'not names correctly classified'\n",
    "results[(y_test == 0) & (predicted_labels == y_test)].sample(n=10, random_state=1)"
   ]
  },
  {
   "cell_type": "markdown",
   "metadata": {},
   "source": [
    "The model is very simplistic and makes very stong assumptions, but otherwise it would be too time consuming.\n",
    "\n",
    "The proper way for detecting names could be to use CRF (e.g. via https://github.com/tpeng/python-crfsuite). Training data could come from wikipedia or common crawl or some other text corpus, and labels for names could be obtained from dbpedia like here. There are also some corpuses with labeled named entities."
   ]
  },
  {
   "cell_type": "code",
   "execution_count": null,
   "metadata": {
    "collapsed": true
   },
   "outputs": [],
   "source": []
  }
 ],
 "metadata": {
  "kernelspec": {
   "display_name": "Python 2",
   "language": "python",
   "name": "python2"
  },
  "language_info": {
   "codemirror_mode": {
    "name": "ipython",
    "version": 2
   },
   "file_extension": ".py",
   "mimetype": "text/x-python",
   "name": "python",
   "nbconvert_exporter": "python",
   "pygments_lexer": "ipython2",
   "version": "2.7.11"
  }
 },
 "nbformat": 4,
 "nbformat_minor": 0
}
