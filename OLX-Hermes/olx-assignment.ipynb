{
 "cells": [
  {
   "cell_type": "markdown",
   "metadata": {},
   "source": [
    "# OLX Assignment\n",
    "\n",
    "Overview of the solution:\n",
    "\n",
    "- First I tokenize and stem the text fields in Lucene - I did not find any polish stemmers for python, so I had to do in in Java. It also removes stopwords\n",
    "- Then I create some basic features:\n",
    "  - One-Hot Encoding of `category`, `price_type`, `category`+`price-type` interaction\n",
    "  - Bag of Words for `title` and `description`\n",
    "  - Interaction between `price_type` and `title`\n",
    "  - Whether we have seen title previously or not, time since seen last, if seen 1 second ago, 1 minute ago, 1 hour ago, etc\n",
    "  - Whether seen description - same as above\n",
    "- Model I use is Linear SVM with L1-penalty\n",
    "- Cross-Validation:\n",
    "  - Data is ordered by `arrival_date` - so I kept the order and just split \n",
    "  - Reason: we train on historical data and want to see how well it will perform on future unseen data\n",
    "  - Split into 3 parts: train, validation and testing. Validation is used for parameter tuning and testing is used for final model verificaiton\n",
    "- For evaluation I use AUC. The final model's AUC is 0.768\n",
    "- For feature importance I used XGBoost\n",
    "- I spent ~4-5 hours on this assignment, and it wasn't enough to try many things. E.g. I haven't really used the price\n",
    "- I have other feature engineering ideas which we can discuss during the interview - if you like the solution\n",
    "  "
   ]
  },
  {
   "cell_type": "code",
   "execution_count": 1,
   "metadata": {
    "collapsed": true
   },
   "outputs": [],
   "source": [
    "import json\n",
    "\n",
    "import re\n",
    "import codecs\n",
    "from collections import Counter\n",
    "\n",
    "import numpy as np\n",
    "import pandas as pd\n",
    "import scipy.sparse as sp\n",
    "\n",
    "from tqdm import tqdm\n",
    "\n",
    "from sklearn.feature_extraction.text import CountVectorizer\n",
    "from sklearn.svm import LinearSVC\n",
    "from sklearn.metrics import roc_auc_score\n",
    "\n",
    "import xgboost as xgb\n",
    "from sklearn.cross_validation import train_test_split"
   ]
  },
  {
   "cell_type": "code",
   "execution_count": 2,
   "metadata": {
    "collapsed": false
   },
   "outputs": [
    {
     "name": "stderr",
     "output_type": "stream",
     "text": []
    }
   ],
   "source": [
    "df_all = []\n",
    "with open('train-stemmed.json', 'r') as f:\n",
    "    for line in tqdm(f):\n",
    "        df_all.append(json.loads(line))\n",
    "\n",
    "df_all = pd.DataFrame(df_all)"
   ]
  },
  {
   "cell_type": "code",
   "execution_count": 3,
   "metadata": {
    "collapsed": false
   },
   "outputs": [],
   "source": [
    "df_all.label = df_all.label.astype('uint8')\n",
    "df_all.price_type.fillna('N/A', inplace=1)\n",
    "df_all.arrival_date = pd.to_datetime(df_all.arrival_date)\n",
    "df_all.user_created_at = pd.to_datetime(df_all.user_created_at)"
   ]
  },
  {
   "cell_type": "code",
   "execution_count": 4,
   "metadata": {
    "collapsed": false
   },
   "outputs": [
    {
     "data": {
      "text/plain": [
       "0.18768768768768768"
      ]
     },
     "execution_count": 4,
     "metadata": {},
     "output_type": "execute_result"
    }
   ],
   "source": [
    "(df_all.category_id.value_counts() == 1).mean()"
   ]
  },
  {
   "cell_type": "code",
   "execution_count": 5,
   "metadata": {
    "collapsed": false
   },
   "outputs": [],
   "source": [
    "translation = {u'ć': u'c', u'ę': u'e', u'ą': u'a', u'ś': u's', u'ć': u'c', \n",
    "               u'ź': u'z', u'ż': u'z', u'ó': u'o', u'ł': u'l', u'ń': u'n'}\n",
    "translation = {ord(k): v for (k, v) in translation.items()}\n",
    "\n",
    "def remove_diacritics(s):\n",
    "    return s.translate(translation)"
   ]
  },
  {
   "cell_type": "code",
   "execution_count": 6,
   "metadata": {
    "collapsed": false
   },
   "outputs": [],
   "source": [
    "df_all.description = df_all.description.apply(remove_diacritics)\n",
    "df_all.title  = df_all.title.apply(remove_diacritics)"
   ]
  },
  {
   "cell_type": "code",
   "execution_count": 7,
   "metadata": {
    "collapsed": true
   },
   "outputs": [],
   "source": [
    "df_all['time_from_registration'] = df_all.arrival_date - df_all.user_created_at\n",
    "df_all.time_from_registration = df_all.time_from_registration.astype('timedelta64[s]').astype('float32')\n",
    "df_all['small_time_gap'] = df_all.time_from_registration < 10000"
   ]
  },
  {
   "cell_type": "markdown",
   "metadata": {},
   "source": [
    "Let us check if we saw any titles previously. If we saw a title, we keep the time we saw it last"
   ]
  },
  {
   "cell_type": "code",
   "execution_count": 8,
   "metadata": {
    "collapsed": false
   },
   "outputs": [],
   "source": [
    "seen = {}\n",
    "seen_cnt = Counter()\n",
    "title_last_seen = []\n",
    "title_seen_cnt = []\n",
    "\n",
    "for title, date in zip(df_all.title, df_all.arrival_date):\n",
    "    if title in seen:\n",
    "        last_seen = seen[title]\n",
    "        title_last_seen.append(last_seen)\n",
    "    else:\n",
    "        title_last_seen.append(pd.NaT)\n",
    "\n",
    "    title_seen_cnt.append(seen_cnt[title])\n",
    "    seen_cnt[title] += 1\n",
    "    seen[title] = date"
   ]
  },
  {
   "cell_type": "code",
   "execution_count": 9,
   "metadata": {
    "collapsed": false
   },
   "outputs": [],
   "source": [
    "one_sec = pd.to_timedelta('1s')\n",
    "one_min = pd.to_timedelta('1m')\n",
    "one_hour = pd.to_timedelta('1h')\n",
    "three_hours = pd.to_timedelta('3h')"
   ]
  },
  {
   "cell_type": "code",
   "execution_count": 10,
   "metadata": {
    "collapsed": false
   },
   "outputs": [],
   "source": [
    "df_all['title_seen_cnt'] = title_seen_cnt\n",
    "df_all['title_last_seen'] = title_last_seen\n",
    "df_all.title_last_seen = (df_all.arrival_date - df_all.title_last_seen)\n",
    "\n",
    "df_all['title_seen_previously'] = ~df_all.title_last_seen.isnull()\n",
    "df_all['title_seen_onesec_ago'] = df_all.title_last_seen <= one_sec\n",
    "df_all['title_seen_onemin_ago'] = df_all.title_last_seen <= one_min\n",
    "df_all['title_seen_onehour_ago'] = df_all.title_last_seen <= one_hour\n",
    "df_all['title_seen_threehours_ago'] = df_all.title_last_seen <= three_hours"
   ]
  },
  {
   "cell_type": "markdown",
   "metadata": {},
   "source": [
    "Same for description"
   ]
  },
  {
   "cell_type": "code",
   "execution_count": 11,
   "metadata": {
    "collapsed": false
   },
   "outputs": [],
   "source": [
    "seen = {}\n",
    "seen_cnt = Counter()\n",
    "desc_last_seen = []\n",
    "desc_seen_cnt = []\n",
    "\n",
    "for desc, date in zip(df_all.description, df_all.arrival_date):\n",
    "    if desc in seen:\n",
    "        last_seen = seen[desc]\n",
    "        desc_last_seen.append(last_seen)\n",
    "    else:\n",
    "        desc_last_seen.append(pd.NaT)\n",
    "\n",
    "    desc_seen_cnt.append(seen_cnt[title])\n",
    "    seen_cnt[desc] += 1\n",
    "    seen[desc] = date"
   ]
  },
  {
   "cell_type": "code",
   "execution_count": 12,
   "metadata": {
    "collapsed": true
   },
   "outputs": [],
   "source": [
    "df_all['desc_seen_cnt'] = desc_seen_cnt\n",
    "df_all['desc_last_seen'] = desc_last_seen\n",
    "df_all.desc_last_seen = (df_all.arrival_date - df_all.desc_last_seen)\n",
    "\n",
    "df_all['desc_seen_previously'] = ~df_all.desc_last_seen.isnull()\n",
    "df_all['desc_seen_onesec_ago'] = df_all.desc_last_seen <= one_sec\n",
    "df_all['desc_seen_onemin_ago'] = df_all.desc_last_seen <= one_min\n",
    "df_all['desc_seen_onehour_ago'] = df_all.desc_last_seen <= one_hour\n",
    "df_all['desc_seen_threehours_ago'] = df_all.desc_last_seen <= three_hours"
   ]
  },
  {
   "cell_type": "code",
   "execution_count": 13,
   "metadata": {
    "collapsed": false
   },
   "outputs": [
    {
     "data": {
      "text/html": [
       "<div>\n",
       "<table border=\"1\" class=\"dataframe\">\n",
       "  <thead>\n",
       "    <tr style=\"text-align: right;\">\n",
       "      <th></th>\n",
       "      <th>arrival_date</th>\n",
       "      <th>category_id</th>\n",
       "      <th>description</th>\n",
       "      <th>label</th>\n",
       "      <th>price</th>\n",
       "      <th>price_type</th>\n",
       "      <th>title</th>\n",
       "      <th>user_created_at</th>\n",
       "      <th>time_from_registration</th>\n",
       "      <th>small_time_gap</th>\n",
       "      <th>...</th>\n",
       "      <th>title_seen_onemin_ago</th>\n",
       "      <th>title_seen_onehour_ago</th>\n",
       "      <th>title_seen_threehours_ago</th>\n",
       "      <th>desc_seen_cnt</th>\n",
       "      <th>desc_last_seen</th>\n",
       "      <th>desc_seen_previously</th>\n",
       "      <th>desc_seen_onesec_ago</th>\n",
       "      <th>desc_seen_onemin_ago</th>\n",
       "      <th>desc_seen_onehour_ago</th>\n",
       "      <th>desc_seen_threehours_ago</th>\n",
       "    </tr>\n",
       "  </thead>\n",
       "  <tbody>\n",
       "    <tr>\n",
       "      <th>0</th>\n",
       "      <td>2016-08-27 04:00:42</td>\n",
       "      <td>1637</td>\n",
       "      <td>malowanie glada glazur terakotay panele solidnka</td>\n",
       "      <td>1</td>\n",
       "      <td>0.0</td>\n",
       "      <td>N/A</td>\n",
       "      <td>malowanie rac</td>\n",
       "      <td>2014-12-27 11:50:55</td>\n",
       "      <td>52589388.0</td>\n",
       "      <td>False</td>\n",
       "      <td>...</td>\n",
       "      <td>False</td>\n",
       "      <td>False</td>\n",
       "      <td>False</td>\n",
       "      <td>0</td>\n",
       "      <td>NaT</td>\n",
       "      <td>False</td>\n",
       "      <td>False</td>\n",
       "      <td>False</td>\n",
       "      <td>False</td>\n",
       "      <td>False</td>\n",
       "    </tr>\n",
       "    <tr>\n",
       "      <th>1</th>\n",
       "      <td>2016-08-27 04:00:42</td>\n",
       "      <td>1637</td>\n",
       "      <td>malowanie glada glazur terakotay panele solidnka</td>\n",
       "      <td>1</td>\n",
       "      <td>0.0</td>\n",
       "      <td>N/A</td>\n",
       "      <td>malowanie glada</td>\n",
       "      <td>2014-12-27 11:50:55</td>\n",
       "      <td>52589388.0</td>\n",
       "      <td>False</td>\n",
       "      <td>...</td>\n",
       "      <td>False</td>\n",
       "      <td>False</td>\n",
       "      <td>False</td>\n",
       "      <td>0</td>\n",
       "      <td>0 days</td>\n",
       "      <td>True</td>\n",
       "      <td>True</td>\n",
       "      <td>True</td>\n",
       "      <td>True</td>\n",
       "      <td>True</td>\n",
       "    </tr>\n",
       "    <tr>\n",
       "      <th>2</th>\n",
       "      <td>2016-08-27 04:00:48</td>\n",
       "      <td>2447</td>\n",
       "      <td>praca kostka brukowy ukladac docinac plantowac...</td>\n",
       "      <td>0</td>\n",
       "      <td>0.0</td>\n",
       "      <td>N/A</td>\n",
       "      <td>praca kostka brukowy</td>\n",
       "      <td>2014-01-22 14:51:56</td>\n",
       "      <td>81868128.0</td>\n",
       "      <td>False</td>\n",
       "      <td>...</td>\n",
       "      <td>False</td>\n",
       "      <td>False</td>\n",
       "      <td>False</td>\n",
       "      <td>0</td>\n",
       "      <td>NaT</td>\n",
       "      <td>False</td>\n",
       "      <td>False</td>\n",
       "      <td>False</td>\n",
       "      <td>False</td>\n",
       "      <td>False</td>\n",
       "    </tr>\n",
       "    <tr>\n",
       "      <th>3</th>\n",
       "      <td>2016-08-27 04:00:52</td>\n",
       "      <td>1823</td>\n",
       "      <td>witac dwien dzisiejszy sprzedawac mebloscianka...</td>\n",
       "      <td>1</td>\n",
       "      <td>350.0</td>\n",
       "      <td>price</td>\n",
       "      <td>mebloscianka dobra cena dobry stan</td>\n",
       "      <td>2016-07-14 16:27:55</td>\n",
       "      <td>3756777.0</td>\n",
       "      <td>False</td>\n",
       "      <td>...</td>\n",
       "      <td>False</td>\n",
       "      <td>False</td>\n",
       "      <td>False</td>\n",
       "      <td>0</td>\n",
       "      <td>NaT</td>\n",
       "      <td>False</td>\n",
       "      <td>False</td>\n",
       "      <td>False</td>\n",
       "      <td>False</td>\n",
       "      <td>False</td>\n",
       "    </tr>\n",
       "    <tr>\n",
       "      <th>4</th>\n",
       "      <td>2016-08-27 04:01:15</td>\n",
       "      <td>1707</td>\n",
       "      <td>sprzedac pary buteleczka daivobet 60g zel niem...</td>\n",
       "      <td>0</td>\n",
       "      <td>120.0</td>\n",
       "      <td>price</td>\n",
       "      <td>daivobey 60g</td>\n",
       "      <td>2014-11-25 13:28:13</td>\n",
       "      <td>55348384.0</td>\n",
       "      <td>False</td>\n",
       "      <td>...</td>\n",
       "      <td>False</td>\n",
       "      <td>False</td>\n",
       "      <td>False</td>\n",
       "      <td>0</td>\n",
       "      <td>NaT</td>\n",
       "      <td>False</td>\n",
       "      <td>False</td>\n",
       "      <td>False</td>\n",
       "      <td>False</td>\n",
       "      <td>False</td>\n",
       "    </tr>\n",
       "  </tbody>\n",
       "</table>\n",
       "<p>5 rows × 24 columns</p>\n",
       "</div>"
      ],
      "text/plain": [
       "         arrival_date  category_id  \\\n",
       "0 2016-08-27 04:00:42         1637   \n",
       "1 2016-08-27 04:00:42         1637   \n",
       "2 2016-08-27 04:00:48         2447   \n",
       "3 2016-08-27 04:00:52         1823   \n",
       "4 2016-08-27 04:01:15         1707   \n",
       "\n",
       "                                         description  label  price price_type  \\\n",
       "0   malowanie glada glazur terakotay panele solidnka      1    0.0        N/A   \n",
       "1   malowanie glada glazur terakotay panele solidnka      1    0.0        N/A   \n",
       "2  praca kostka brukowy ukladac docinac plantowac...      0    0.0        N/A   \n",
       "3  witac dwien dzisiejszy sprzedawac mebloscianka...      1  350.0      price   \n",
       "4  sprzedac pary buteleczka daivobet 60g zel niem...      0  120.0      price   \n",
       "\n",
       "                                title     user_created_at  \\\n",
       "0                       malowanie rac 2014-12-27 11:50:55   \n",
       "1                     malowanie glada 2014-12-27 11:50:55   \n",
       "2                praca kostka brukowy 2014-01-22 14:51:56   \n",
       "3  mebloscianka dobra cena dobry stan 2016-07-14 16:27:55   \n",
       "4                        daivobey 60g 2014-11-25 13:28:13   \n",
       "\n",
       "   time_from_registration small_time_gap           ...             \\\n",
       "0              52589388.0          False           ...              \n",
       "1              52589388.0          False           ...              \n",
       "2              81868128.0          False           ...              \n",
       "3               3756777.0          False           ...              \n",
       "4              55348384.0          False           ...              \n",
       "\n",
       "   title_seen_onemin_ago  title_seen_onehour_ago title_seen_threehours_ago  \\\n",
       "0                  False                   False                     False   \n",
       "1                  False                   False                     False   \n",
       "2                  False                   False                     False   \n",
       "3                  False                   False                     False   \n",
       "4                  False                   False                     False   \n",
       "\n",
       "  desc_seen_cnt desc_last_seen desc_seen_previously desc_seen_onesec_ago  \\\n",
       "0             0            NaT                False                False   \n",
       "1             0         0 days                 True                 True   \n",
       "2             0            NaT                False                False   \n",
       "3             0            NaT                False                False   \n",
       "4             0            NaT                False                False   \n",
       "\n",
       "   desc_seen_onemin_ago  desc_seen_onehour_ago desc_seen_threehours_ago  \n",
       "0                 False                  False                    False  \n",
       "1                  True                   True                     True  \n",
       "2                 False                  False                    False  \n",
       "3                 False                  False                    False  \n",
       "4                 False                  False                    False  \n",
       "\n",
       "[5 rows x 24 columns]"
      ]
     },
     "execution_count": 13,
     "metadata": {},
     "output_type": "execute_result"
    }
   ],
   "source": [
    "df_all.head()"
   ]
  },
  {
   "cell_type": "markdown",
   "metadata": {},
   "source": [
    "Let's check if some features give us a good baseline:"
   ]
  },
  {
   "cell_type": "code",
   "execution_count": 14,
   "metadata": {
    "collapsed": false
   },
   "outputs": [
    {
     "name": "stdout",
     "output_type": "stream",
     "text": [
      "time_from_registration, 0.512\n",
      "title_seen_cnt, 0.533\n"
     ]
    }
   ],
   "source": [
    "print 'time_from_registration, %.3f' % roc_auc_score(df_all.label, df_all.time_from_registration)\n",
    "print 'title_seen_cnt, %.3f' % roc_auc_score(df_all.label, df_all.title_seen_cnt)"
   ]
  },
  {
   "cell_type": "markdown",
   "metadata": {},
   "source": [
    "Now let's split the data for Cross-Validation"
   ]
  },
  {
   "cell_type": "code",
   "execution_count": 15,
   "metadata": {
    "collapsed": false
   },
   "outputs": [],
   "source": [
    "TRAIN = 0\n",
    "VAL = 1\n",
    "TEST = 2\n",
    "\n",
    "n = len(df_all)\n",
    "full_train_size = int(0.7 * n)\n",
    "train_size = int(0.7 * full_train_size)\n",
    "\n",
    "df_all['test'] = TRAIN\n",
    "df_all.loc[df_all.index > train_size, 'test'] = VAL\n",
    "df_all.loc[df_all.index > full_train_size, 'test'] = TEST"
   ]
  },
  {
   "cell_type": "code",
   "execution_count": 16,
   "metadata": {
    "collapsed": true
   },
   "outputs": [],
   "source": [
    "y_train = df_all.label[df_all.test == TRAIN].values\n",
    "y_val = df_all.label[df_all.test == VAL].values\n",
    "\n",
    "y_fulltrain = df_all.label[df_all.test != TEST].values\n",
    "y_test = df_all.label[df_all.test == TEST].values\n",
    "\n",
    "train_idx = (df_all.test == TRAIN).values\n",
    "val_idx = (df_all.test == VAL).values\n",
    "\n",
    "fulltrain_idx = (df_all.test != TEST).values\n",
    "test_idx = (df_all.test == TEST).values"
   ]
  },
  {
   "cell_type": "markdown",
   "metadata": {},
   "source": [
    "First let's try using the price type only"
   ]
  },
  {
   "cell_type": "code",
   "execution_count": 17,
   "metadata": {
    "collapsed": true
   },
   "outputs": [],
   "source": [
    "price_type = df_all.price_type\n",
    "price_type_vectorizer = CountVectorizer(binary=1, dtype='uint8', min_df=10)\n",
    "price_type_matrix = price_type_vectorizer.fit_transform(price_type)"
   ]
  },
  {
   "cell_type": "code",
   "execution_count": 18,
   "metadata": {
    "collapsed": true
   },
   "outputs": [],
   "source": [
    "price_type_train = price_type_matrix[train_idx]\n",
    "price_type_val = price_type_matrix[val_idx]"
   ]
  },
  {
   "cell_type": "code",
   "execution_count": 19,
   "metadata": {
    "collapsed": false
   },
   "outputs": [
    {
     "name": "stdout",
     "output_type": "stream",
     "text": [
      "C=1.000, auc=0.569\n"
     ]
    }
   ],
   "source": [
    "C = 1.0\n",
    "svm = LinearSVC(penalty='l1', dual=False, C=C, random_state=1)\n",
    "svm.fit(price_type_train, y_train)\n",
    "\n",
    "pred = svm.decision_function(price_type_val)\n",
    "auc = roc_auc_score(y_val, pred)\n",
    "print 'C=%.3f, auc=%.3f' % (C, auc)"
   ]
  },
  {
   "cell_type": "markdown",
   "metadata": {},
   "source": [
    "Also we can try using only category"
   ]
  },
  {
   "cell_type": "code",
   "execution_count": 20,
   "metadata": {
    "collapsed": false
   },
   "outputs": [],
   "source": [
    "categories = df_all.category_id.astype('str')\n",
    "cat_vectorizer = CountVectorizer(binary=1, dtype='uint8', min_df=10)\n",
    "cat_matrix = cat_vectorizer.fit_transform(categories)"
   ]
  },
  {
   "cell_type": "code",
   "execution_count": 21,
   "metadata": {
    "collapsed": false
   },
   "outputs": [],
   "source": [
    "cat_train = cat_matrix[train_idx]\n",
    "cat_val = cat_matrix[val_idx]"
   ]
  },
  {
   "cell_type": "code",
   "execution_count": 22,
   "metadata": {
    "collapsed": false
   },
   "outputs": [
    {
     "name": "stdout",
     "output_type": "stream",
     "text": [
      "C=0.010, auc=0.637\n",
      "C=0.100, auc=0.678\n",
      "C=0.500, auc=0.683\n",
      "C=1.000, auc=0.683\n"
     ]
    }
   ],
   "source": [
    "for C in [0.01, 0.1, 0.5, 1]:\n",
    "    svm = LinearSVC(penalty='l1', dual=False, C=C, random_state=1)\n",
    "    svm.fit(cat_train, y_train)\n",
    "\n",
    "    pred = svm.decision_function(cat_val)\n",
    "    auc = roc_auc_score(y_val, pred)\n",
    "    print 'C=%.3f, auc=%.3f' % (C, auc)"
   ]
  },
  {
   "cell_type": "markdown",
   "metadata": {},
   "source": [
    "What if we combine category and price type?"
   ]
  },
  {
   "cell_type": "code",
   "execution_count": 23,
   "metadata": {
    "collapsed": false
   },
   "outputs": [
    {
     "data": {
      "text/plain": [
       "(95329, 667)"
      ]
     },
     "execution_count": 23,
     "metadata": {},
     "output_type": "execute_result"
    }
   ],
   "source": [
    "pt_cat = price_type + \"_\" + categories\n",
    "pt_cat_vectorizer = CountVectorizer(binary=1, dtype='uint8', min_df=10)\n",
    "pt_cat_matrix = pt_cat_vectorizer.fit_transform(pt_cat)\n",
    "pt_cat_matrix.shape"
   ]
  },
  {
   "cell_type": "code",
   "execution_count": 24,
   "metadata": {
    "collapsed": true
   },
   "outputs": [],
   "source": [
    "pt_cat_train = pt_cat_matrix[train_idx]\n",
    "pt_cat_val = pt_cat_matrix[val_idx]"
   ]
  },
  {
   "cell_type": "code",
   "execution_count": 25,
   "metadata": {
    "collapsed": false
   },
   "outputs": [
    {
     "name": "stdout",
     "output_type": "stream",
     "text": [
      "C=0.010, auc=0.622\n",
      "C=0.100, auc=0.701\n",
      "C=0.500, auc=0.707\n",
      "C=1.000, auc=0.707\n"
     ]
    }
   ],
   "source": [
    "for C in [0.01, 0.1, 0.5, 1]:\n",
    "    svm = LinearSVC(penalty='l1', dual=False, C=C, random_state=1)\n",
    "    svm.fit(pt_cat_train, y_train)\n",
    "\n",
    "    pred = svm.decision_function(pt_cat_val)\n",
    "    auc = roc_auc_score(y_val, pred)\n",
    "    print 'C=%.3f, auc=%.3f' % (C, auc)"
   ]
  },
  {
   "cell_type": "markdown",
   "metadata": {},
   "source": [
    "Using only this already gives 70% AUC.\n",
    "\n",
    "Let's try to use titles alone and then descriptions alone"
   ]
  },
  {
   "cell_type": "code",
   "execution_count": 26,
   "metadata": {
    "collapsed": true
   },
   "outputs": [],
   "source": [
    "titles = df_all.title\n",
    "title_vectorizer = CountVectorizer(binary=1, dtype='uint8', min_df=10)\n",
    "title_matrix = title_vectorizer.fit_transform(titles)"
   ]
  },
  {
   "cell_type": "code",
   "execution_count": 27,
   "metadata": {
    "collapsed": true
   },
   "outputs": [],
   "source": [
    "title_train = title_matrix[train_idx]\n",
    "title_val = title_matrix[val_idx]"
   ]
  },
  {
   "cell_type": "code",
   "execution_count": 28,
   "metadata": {
    "collapsed": false
   },
   "outputs": [
    {
     "name": "stdout",
     "output_type": "stream",
     "text": [
      "C=0.010, auc=0.602\n",
      "C=0.050, auc=0.672\n",
      "C=0.100, auc=0.681\n",
      "C=0.500, auc=0.670\n"
     ]
    }
   ],
   "source": [
    "for C in [0.01, 0.05, 0.1, 0.5]:\n",
    "    svm = LinearSVC(penalty='l1', dual=False, C=C, random_state=1)\n",
    "    svm.fit(title_train, y_train)\n",
    "\n",
    "    pred = svm.decision_function(title_val)\n",
    "    auc = roc_auc_score(y_val, pred)\n",
    "    print 'C=%.3f, auc=%.3f' % (C, auc)"
   ]
  },
  {
   "cell_type": "code",
   "execution_count": 29,
   "metadata": {
    "collapsed": true
   },
   "outputs": [],
   "source": [
    "desc = df_all.description\n",
    "dect_vectorizer = CountVectorizer(binary=1, dtype='uint8', min_df=10)\n",
    "desc_matrix = dect_vectorizer.fit_transform(desc)"
   ]
  },
  {
   "cell_type": "code",
   "execution_count": 30,
   "metadata": {
    "collapsed": true
   },
   "outputs": [],
   "source": [
    "desc_train = desc_matrix[train_idx]\n",
    "desc_val = desc_matrix[val_idx]"
   ]
  },
  {
   "cell_type": "code",
   "execution_count": 31,
   "metadata": {
    "collapsed": false,
    "scrolled": true
   },
   "outputs": [
    {
     "name": "stdout",
     "output_type": "stream",
     "text": [
      "C=0.010, auc=0.662\n",
      "C=0.050, auc=0.694\n",
      "C=0.100, auc=0.694\n",
      "C=0.500, auc=0.662\n"
     ]
    }
   ],
   "source": [
    "for C in [0.01, 0.05, 0.1, 0.5]:\n",
    "    svm = LinearSVC(penalty='l1', dual=False, C=C, random_state=1)\n",
    "    svm.fit(desc_train, y_train)\n",
    "\n",
    "    pred = svm.decision_function(desc_val)\n",
    "    auc = roc_auc_score(y_val, pred)\n",
    "    print 'C=%.3f, auc=%.3f' % (C, auc)"
   ]
  },
  {
   "cell_type": "markdown",
   "metadata": {},
   "source": [
    "We see that they are less performant than category+price type. \n",
    "\n",
    "Now let's try to append the category to each token in title. Also, some of the categories occur very infrequently, so we can replace them with something like \"X\""
   ]
  },
  {
   "cell_type": "code",
   "execution_count": 32,
   "metadata": {
    "collapsed": true
   },
   "outputs": [],
   "source": [
    "def append_cat(cat, tokens):\n",
    "    split = tokens.split()\n",
    "    return ' '.join(cat + \"_\" + t for t in split)"
   ]
  },
  {
   "cell_type": "code",
   "execution_count": 33,
   "metadata": {
    "collapsed": false
   },
   "outputs": [],
   "source": [
    "cat_cnt = Counter(categories)\n",
    "\n",
    "hfcats = categories.copy()\n",
    "hfcats[hfcats.apply(cat_cnt.get) <= 15] = 'X'"
   ]
  },
  {
   "cell_type": "code",
   "execution_count": 34,
   "metadata": {
    "collapsed": false
   },
   "outputs": [],
   "source": [
    "hfcats_titles = hfcats.combine(titles, append_cat)"
   ]
  },
  {
   "cell_type": "code",
   "execution_count": 35,
   "metadata": {
    "collapsed": false
   },
   "outputs": [
    {
     "data": {
      "text/plain": [
       "(95329, 6668)"
      ]
     },
     "execution_count": 35,
     "metadata": {},
     "output_type": "execute_result"
    }
   ],
   "source": [
    "hfcats_title_vectorizer = CountVectorizer(binary=1, dtype='uint8', min_df=10)\n",
    "hfcats_title_matrix = hfcats_title_vectorizer.fit_transform(hfcats_titles)\n",
    "hfcats_title_matrix.shape"
   ]
  },
  {
   "cell_type": "code",
   "execution_count": 36,
   "metadata": {
    "collapsed": true
   },
   "outputs": [],
   "source": [
    "hfcats_title_train = hfcats_title_matrix[train_idx]\n",
    "hfcats_title_val = hfcats_title_matrix[val_idx]"
   ]
  },
  {
   "cell_type": "code",
   "execution_count": 37,
   "metadata": {
    "collapsed": false,
    "scrolled": false
   },
   "outputs": [
    {
     "name": "stdout",
     "output_type": "stream",
     "text": [
      "C=0.100, auc=0.669\n",
      "C=0.500, auc=0.678\n",
      "C=0.700, auc=0.675\n",
      "C=1.000, auc=0.671\n"
     ]
    }
   ],
   "source": [
    "for C in [0.1, 0.5, 0.7, 1]:\n",
    "    svm = LinearSVC(penalty='l1', dual=False, C=C, random_state=1)\n",
    "    svm.fit(hfcats_title_train, y_train)\n",
    "\n",
    "    pred = svm.decision_function(hfcats_title_val)\n",
    "    auc = roc_auc_score(y_val, pred)\n",
    "    print 'C=%.3f, auc=%.3f' % (C, auc)"
   ]
  },
  {
   "cell_type": "markdown",
   "metadata": {},
   "source": [
    "The performance is almost the same as using plain titles.\n",
    "\n",
    "Now let's put everything together and also use some of the features we created previsouly"
   ]
  },
  {
   "cell_type": "code",
   "execution_count": 38,
   "metadata": {
    "collapsed": false
   },
   "outputs": [],
   "source": [
    "df_all.title_seen_cnt = df_all.title_seen_cnt.astype('uint32')"
   ]
  },
  {
   "cell_type": "code",
   "execution_count": 39,
   "metadata": {
    "collapsed": false
   },
   "outputs": [
    {
     "data": {
      "text/plain": [
       "<95329x32877 sparse matrix of type '<type 'numpy.float64'>'\n",
       "\twith 3277965 stored elements in Compressed Sparse Row format>"
      ]
     },
     "execution_count": 39,
     "metadata": {},
     "output_type": "execute_result"
    }
   ],
   "source": [
    "orig_colums = ['title_seen_previously', \n",
    "               'title_seen_onesec_ago', \n",
    "               'title_seen_onemin_ago', \n",
    "               'title_seen_onehour_ago', \n",
    "               'title_seen_threehours_ago',\n",
    "               'desc_seen_cnt',\n",
    "               'desc_seen_previously',\n",
    "               'desc_seen_onesec_ago',\n",
    "               'desc_seen_onemin_ago',\n",
    "               'desc_seen_onehour_ago',\n",
    "               'desc_seen_threehours_ago',\n",
    "               'small_time_gap']\n",
    "\n",
    "X = sp.hstack([\n",
    "        price_type_matrix, cat_matrix, pt_cat_matrix,\n",
    "        title_matrix,\n",
    "        desc_matrix,\n",
    "        hfcats_title_matrix, \n",
    "        df_all[orig_colums].values.astype('float'),\n",
    "    ], format='csr')\n",
    "X"
   ]
  },
  {
   "cell_type": "code",
   "execution_count": 40,
   "metadata": {
    "collapsed": true
   },
   "outputs": [],
   "source": [
    "X_train = X[train_idx]\n",
    "X_val = X[val_idx]"
   ]
  },
  {
   "cell_type": "code",
   "execution_count": 41,
   "metadata": {
    "collapsed": false
   },
   "outputs": [
    {
     "name": "stdout",
     "output_type": "stream",
     "text": [
      "C=0.010, auc=0.725\n",
      "C=0.050, auc=0.761\n",
      "C=0.100, auc=0.761\n"
     ]
    }
   ],
   "source": [
    "for C in [0.01, 0.05, 0.1]:\n",
    "    svm = LinearSVC(penalty='l1', dual=False, C=C, random_state=1)\n",
    "    svm.fit(X_train, y_train)\n",
    "\n",
    "    pred = svm.decision_function(X_val)\n",
    "    auc = roc_auc_score(y_val, pred)\n",
    "    print 'C=%.3f, auc=%.3f' % (C, auc)"
   ]
  },
  {
   "cell_type": "markdown",
   "metadata": {},
   "source": [
    "Value of $C=0.05$ looks reasonable, so we'll use it for the final model. Let's retrain it on the entire train+val set and then evaluate it on test"
   ]
  },
  {
   "cell_type": "code",
   "execution_count": 42,
   "metadata": {
    "collapsed": true
   },
   "outputs": [],
   "source": [
    "X_fulltest = X[fulltrain_idx]\n",
    "X_test = X[test_idx]"
   ]
  },
  {
   "cell_type": "code",
   "execution_count": 43,
   "metadata": {
    "collapsed": false
   },
   "outputs": [
    {
     "name": "stdout",
     "output_type": "stream",
     "text": [
      "auc=0.768\n"
     ]
    }
   ],
   "source": [
    "C = 0.05\n",
    "svm = LinearSVC(penalty='l1', dual=False, C=C, random_state=1)\n",
    "svm.fit(X_fulltest, y_fulltrain)\n",
    "pred = svm.decision_function(X_test)\n",
    "auc = roc_auc_score(y_test, pred)\n",
    "print 'auc=%.3f' % (auc)"
   ]
  },
  {
   "cell_type": "markdown",
   "metadata": {},
   "source": [
    "The final AUC is 0.768 which is in line with our Cross-Validation, so we didn't overfit"
   ]
  },
  {
   "cell_type": "markdown",
   "metadata": {},
   "source": [
    "## Feature importance"
   ]
  },
  {
   "cell_type": "markdown",
   "metadata": {},
   "source": [
    "I calculate the importance of categorical and text variables by:\n",
    "\n",
    "- building individual models on these variables and then \n",
    "- evaluating the contribution of each model in an ensemble \n",
    "- I also add numerical variables there\n",
    "- the ensembling technique is stacking\n",
    "  - to prevent overfitting, I train these models on train, and apply them to validation\n",
    "  - then I stack only the predictions on validation\n",
    "  - finally, the validation data is also split into train and test to make sure xgb doesn't overfit\n",
    "- I use fscore from xgb to rank features by importance - this is the number of times a feature is used"
   ]
  },
  {
   "cell_type": "code",
   "execution_count": 44,
   "metadata": {
    "collapsed": false
   },
   "outputs": [
    {
     "data": {
      "text/html": [
       "<div>\n",
       "<table border=\"1\" class=\"dataframe\">\n",
       "  <thead>\n",
       "    <tr style=\"text-align: right;\">\n",
       "      <th></th>\n",
       "      <th>price_type</th>\n",
       "      <th>category</th>\n",
       "      <th>pt_cat</th>\n",
       "      <th>title</th>\n",
       "      <th>desc</th>\n",
       "      <th>hfcats_title</th>\n",
       "      <th>time_from_registration</th>\n",
       "      <th>title_last_seen</th>\n",
       "      <th>desc_last_seen</th>\n",
       "      <th>price</th>\n",
       "    </tr>\n",
       "  </thead>\n",
       "  <tbody>\n",
       "    <tr>\n",
       "      <th>0</th>\n",
       "      <td>-0.709288</td>\n",
       "      <td>-0.872748</td>\n",
       "      <td>-0.868735</td>\n",
       "      <td>-0.795494</td>\n",
       "      <td>-0.821338</td>\n",
       "      <td>-0.779687</td>\n",
       "      <td>35780424.0</td>\n",
       "      <td>100.0</td>\n",
       "      <td>NaN</td>\n",
       "      <td>50.0</td>\n",
       "    </tr>\n",
       "    <tr>\n",
       "      <th>1</th>\n",
       "      <td>-0.703983</td>\n",
       "      <td>-0.595238</td>\n",
       "      <td>-0.727280</td>\n",
       "      <td>-0.730911</td>\n",
       "      <td>-0.622101</td>\n",
       "      <td>-0.697310</td>\n",
       "      <td>74114752.0</td>\n",
       "      <td>NaN</td>\n",
       "      <td>NaN</td>\n",
       "      <td>180.0</td>\n",
       "    </tr>\n",
       "    <tr>\n",
       "      <th>2</th>\n",
       "      <td>-0.703983</td>\n",
       "      <td>-0.872748</td>\n",
       "      <td>-0.908623</td>\n",
       "      <td>-0.787836</td>\n",
       "      <td>-0.799260</td>\n",
       "      <td>-0.877503</td>\n",
       "      <td>82266080.0</td>\n",
       "      <td>22339.0</td>\n",
       "      <td>NaN</td>\n",
       "      <td>300.0</td>\n",
       "    </tr>\n",
       "    <tr>\n",
       "      <th>3</th>\n",
       "      <td>-0.703983</td>\n",
       "      <td>-0.701481</td>\n",
       "      <td>-0.790007</td>\n",
       "      <td>-0.761514</td>\n",
       "      <td>-0.802100</td>\n",
       "      <td>-0.729825</td>\n",
       "      <td>112347408.0</td>\n",
       "      <td>NaN</td>\n",
       "      <td>NaN</td>\n",
       "      <td>15.0</td>\n",
       "    </tr>\n",
       "    <tr>\n",
       "      <th>4</th>\n",
       "      <td>-0.709288</td>\n",
       "      <td>-0.701481</td>\n",
       "      <td>-0.765259</td>\n",
       "      <td>-0.773544</td>\n",
       "      <td>-0.656746</td>\n",
       "      <td>-0.894386</td>\n",
       "      <td>56841272.0</td>\n",
       "      <td>NaN</td>\n",
       "      <td>NaN</td>\n",
       "      <td>7.0</td>\n",
       "    </tr>\n",
       "  </tbody>\n",
       "</table>\n",
       "</div>"
      ],
      "text/plain": [
       "   price_type  category    pt_cat     title      desc  hfcats_title  \\\n",
       "0   -0.709288 -0.872748 -0.868735 -0.795494 -0.821338     -0.779687   \n",
       "1   -0.703983 -0.595238 -0.727280 -0.730911 -0.622101     -0.697310   \n",
       "2   -0.703983 -0.872748 -0.908623 -0.787836 -0.799260     -0.877503   \n",
       "3   -0.703983 -0.701481 -0.790007 -0.761514 -0.802100     -0.729825   \n",
       "4   -0.709288 -0.701481 -0.765259 -0.773544 -0.656746     -0.894386   \n",
       "\n",
       "   time_from_registration  title_last_seen  desc_last_seen  price  \n",
       "0              35780424.0            100.0             NaN   50.0  \n",
       "1              74114752.0              NaN             NaN  180.0  \n",
       "2              82266080.0          22339.0             NaN  300.0  \n",
       "3             112347408.0              NaN             NaN   15.0  \n",
       "4              56841272.0              NaN             NaN    7.0  "
      ]
     },
     "execution_count": 44,
     "metadata": {},
     "output_type": "execute_result"
    }
   ],
   "source": [
    "fi_train = pd.DataFrame()\n",
    "\n",
    "svm = LinearSVC(penalty='l1', dual=False, C=1.0, random_state=1)\n",
    "svm.fit(price_type_train, y_train)\n",
    "fi_train['price_type'] = svm.decision_function(price_type_val)\n",
    "\n",
    "svm = LinearSVC(penalty='l1', dual=False, C=0.5, random_state=1)\n",
    "svm.fit(cat_train, y_train)\n",
    "fi_train['category'] = svm.decision_function(cat_val)\n",
    "\n",
    "svm = LinearSVC(penalty='l1', dual=False, C=0.5, random_state=1)\n",
    "svm.fit(pt_cat_train, y_train)\n",
    "fi_train['pt_cat'] = svm.decision_function(pt_cat_val)\n",
    "\n",
    "svm = LinearSVC(penalty='l1', dual=False, C=0.1, random_state=1)\n",
    "svm.fit(title_train, y_train)\n",
    "fi_train['title'] = svm.decision_function(title_val)\n",
    "\n",
    "svm = LinearSVC(penalty='l1', dual=False, C=0.05, random_state=1)\n",
    "svm.fit(desc_train, y_train)\n",
    "fi_train['desc'] = svm.decision_function(desc_val)\n",
    "\n",
    "svm = LinearSVC(penalty='l1', dual=False, C=0.1, random_state=1)\n",
    "svm.fit(hfcats_title_train, y_train)\n",
    "fi_train['hfcats_title'] = svm.decision_function(hfcats_title_val)\n",
    "\n",
    "df_val = df_all[df_all.test == VAL]\n",
    "fi_train['time_from_registration'] = df_val.time_from_registration.values\n",
    "fi_train['title_last_seen'] = df_val.title_last_seen.dt.seconds.values\n",
    "fi_train['desc_last_seen'] = df_val.desc_last_seen.dt.seconds.values\n",
    "fi_train['price'] = df_val.price.values\n",
    "\n",
    "fi_train.head()"
   ]
  },
  {
   "cell_type": "code",
   "execution_count": 50,
   "metadata": {
    "collapsed": false
   },
   "outputs": [
    {
     "data": {
      "text/html": [
       "<div>\n",
       "<table border=\"1\" class=\"dataframe\">\n",
       "  <thead>\n",
       "    <tr style=\"text-align: right;\">\n",
       "      <th></th>\n",
       "      <th>price_type</th>\n",
       "      <th>category</th>\n",
       "      <th>pt_cat</th>\n",
       "      <th>title</th>\n",
       "      <th>desc</th>\n",
       "      <th>hfcats_title</th>\n",
       "      <th>time_from_registration</th>\n",
       "      <th>title_last_seen</th>\n",
       "      <th>desc_last_seen</th>\n",
       "      <th>price</th>\n",
       "    </tr>\n",
       "  </thead>\n",
       "  <tbody>\n",
       "    <tr>\n",
       "      <th>price_type</th>\n",
       "      <td>1.000000</td>\n",
       "      <td>0.045328</td>\n",
       "      <td>0.311405</td>\n",
       "      <td>0.070014</td>\n",
       "      <td>0.116891</td>\n",
       "      <td>0.016803</td>\n",
       "      <td>-0.001709</td>\n",
       "      <td>-0.038156</td>\n",
       "      <td>-0.087992</td>\n",
       "      <td>-0.004706</td>\n",
       "    </tr>\n",
       "    <tr>\n",
       "      <th>category</th>\n",
       "      <td>0.045328</td>\n",
       "      <td>1.000000</td>\n",
       "      <td>0.823139</td>\n",
       "      <td>0.369405</td>\n",
       "      <td>0.348440</td>\n",
       "      <td>0.454427</td>\n",
       "      <td>-0.041515</td>\n",
       "      <td>0.009836</td>\n",
       "      <td>-0.031583</td>\n",
       "      <td>-0.000925</td>\n",
       "    </tr>\n",
       "    <tr>\n",
       "      <th>pt_cat</th>\n",
       "      <td>0.311405</td>\n",
       "      <td>0.823139</td>\n",
       "      <td>1.000000</td>\n",
       "      <td>0.355180</td>\n",
       "      <td>0.358891</td>\n",
       "      <td>0.424450</td>\n",
       "      <td>-0.027180</td>\n",
       "      <td>-0.001142</td>\n",
       "      <td>-0.040091</td>\n",
       "      <td>-0.009996</td>\n",
       "    </tr>\n",
       "    <tr>\n",
       "      <th>title</th>\n",
       "      <td>0.070014</td>\n",
       "      <td>0.369405</td>\n",
       "      <td>0.355180</td>\n",
       "      <td>1.000000</td>\n",
       "      <td>0.466403</td>\n",
       "      <td>0.685262</td>\n",
       "      <td>-0.013708</td>\n",
       "      <td>-0.021927</td>\n",
       "      <td>-0.025111</td>\n",
       "      <td>-0.001817</td>\n",
       "    </tr>\n",
       "    <tr>\n",
       "      <th>desc</th>\n",
       "      <td>0.116891</td>\n",
       "      <td>0.348440</td>\n",
       "      <td>0.358891</td>\n",
       "      <td>0.466403</td>\n",
       "      <td>1.000000</td>\n",
       "      <td>0.400582</td>\n",
       "      <td>-0.001113</td>\n",
       "      <td>-0.003371</td>\n",
       "      <td>0.018514</td>\n",
       "      <td>0.002691</td>\n",
       "    </tr>\n",
       "    <tr>\n",
       "      <th>hfcats_title</th>\n",
       "      <td>0.016803</td>\n",
       "      <td>0.454427</td>\n",
       "      <td>0.424450</td>\n",
       "      <td>0.685262</td>\n",
       "      <td>0.400582</td>\n",
       "      <td>1.000000</td>\n",
       "      <td>-0.016322</td>\n",
       "      <td>-0.009666</td>\n",
       "      <td>0.008863</td>\n",
       "      <td>-0.003943</td>\n",
       "    </tr>\n",
       "    <tr>\n",
       "      <th>time_from_registration</th>\n",
       "      <td>-0.001709</td>\n",
       "      <td>-0.041515</td>\n",
       "      <td>-0.027180</td>\n",
       "      <td>-0.013708</td>\n",
       "      <td>-0.001113</td>\n",
       "      <td>-0.016322</td>\n",
       "      <td>1.000000</td>\n",
       "      <td>0.014888</td>\n",
       "      <td>0.007475</td>\n",
       "      <td>-0.002217</td>\n",
       "    </tr>\n",
       "    <tr>\n",
       "      <th>title_last_seen</th>\n",
       "      <td>-0.038156</td>\n",
       "      <td>0.009836</td>\n",
       "      <td>-0.001142</td>\n",
       "      <td>-0.021927</td>\n",
       "      <td>-0.003371</td>\n",
       "      <td>-0.009666</td>\n",
       "      <td>0.014888</td>\n",
       "      <td>1.000000</td>\n",
       "      <td>0.918523</td>\n",
       "      <td>0.016530</td>\n",
       "    </tr>\n",
       "    <tr>\n",
       "      <th>desc_last_seen</th>\n",
       "      <td>-0.087992</td>\n",
       "      <td>-0.031583</td>\n",
       "      <td>-0.040091</td>\n",
       "      <td>-0.025111</td>\n",
       "      <td>0.018514</td>\n",
       "      <td>0.008863</td>\n",
       "      <td>0.007475</td>\n",
       "      <td>0.918523</td>\n",
       "      <td>1.000000</td>\n",
       "      <td>-0.014963</td>\n",
       "    </tr>\n",
       "    <tr>\n",
       "      <th>price</th>\n",
       "      <td>-0.004706</td>\n",
       "      <td>-0.000925</td>\n",
       "      <td>-0.009996</td>\n",
       "      <td>-0.001817</td>\n",
       "      <td>0.002691</td>\n",
       "      <td>-0.003943</td>\n",
       "      <td>-0.002217</td>\n",
       "      <td>0.016530</td>\n",
       "      <td>-0.014963</td>\n",
       "      <td>1.000000</td>\n",
       "    </tr>\n",
       "  </tbody>\n",
       "</table>\n",
       "</div>"
      ],
      "text/plain": [
       "                        price_type  category    pt_cat     title      desc  \\\n",
       "price_type                1.000000  0.045328  0.311405  0.070014  0.116891   \n",
       "category                  0.045328  1.000000  0.823139  0.369405  0.348440   \n",
       "pt_cat                    0.311405  0.823139  1.000000  0.355180  0.358891   \n",
       "title                     0.070014  0.369405  0.355180  1.000000  0.466403   \n",
       "desc                      0.116891  0.348440  0.358891  0.466403  1.000000   \n",
       "hfcats_title              0.016803  0.454427  0.424450  0.685262  0.400582   \n",
       "time_from_registration   -0.001709 -0.041515 -0.027180 -0.013708 -0.001113   \n",
       "title_last_seen          -0.038156  0.009836 -0.001142 -0.021927 -0.003371   \n",
       "desc_last_seen           -0.087992 -0.031583 -0.040091 -0.025111  0.018514   \n",
       "price                    -0.004706 -0.000925 -0.009996 -0.001817  0.002691   \n",
       "\n",
       "                        hfcats_title  time_from_registration  title_last_seen  \\\n",
       "price_type                  0.016803               -0.001709        -0.038156   \n",
       "category                    0.454427               -0.041515         0.009836   \n",
       "pt_cat                      0.424450               -0.027180        -0.001142   \n",
       "title                       0.685262               -0.013708        -0.021927   \n",
       "desc                        0.400582               -0.001113        -0.003371   \n",
       "hfcats_title                1.000000               -0.016322        -0.009666   \n",
       "time_from_registration     -0.016322                1.000000         0.014888   \n",
       "title_last_seen            -0.009666                0.014888         1.000000   \n",
       "desc_last_seen              0.008863                0.007475         0.918523   \n",
       "price                      -0.003943               -0.002217         0.016530   \n",
       "\n",
       "                        desc_last_seen     price  \n",
       "price_type                   -0.087992 -0.004706  \n",
       "category                     -0.031583 -0.000925  \n",
       "pt_cat                       -0.040091 -0.009996  \n",
       "title                        -0.025111 -0.001817  \n",
       "desc                          0.018514  0.002691  \n",
       "hfcats_title                  0.008863 -0.003943  \n",
       "time_from_registration        0.007475 -0.002217  \n",
       "title_last_seen               0.918523  0.016530  \n",
       "desc_last_seen                1.000000 -0.014963  \n",
       "price                        -0.014963  1.000000  "
      ]
     },
     "execution_count": 50,
     "metadata": {},
     "output_type": "execute_result"
    }
   ],
   "source": [
    "fi_train.corr()"
   ]
  },
  {
   "cell_type": "code",
   "execution_count": 45,
   "metadata": {
    "collapsed": false
   },
   "outputs": [],
   "source": [
    "X_fi, X_fi_val, y_fi, y_fi_val = train_test_split(fi_train, y_val, test_size=0.2, random_state=1)"
   ]
  },
  {
   "cell_type": "code",
   "execution_count": 46,
   "metadata": {
    "collapsed": true
   },
   "outputs": [],
   "source": [
    "dtrain = xgb.DMatrix(X_fi, label=y_fi, feature_names=list(fi_train.columns))\n",
    "dval = xgb.DMatrix(X_fi_val, label=y_fi_val, feature_names=list(fi_train.columns))\n",
    "watchlist = [(dtrain, 'train'), (dval, 'val')]"
   ]
  },
  {
   "cell_type": "code",
   "execution_count": 47,
   "metadata": {
    "collapsed": true
   },
   "outputs": [],
   "source": [
    "xgb_pars = {\n",
    "    'eta': 0.01,\n",
    "    'gamma': 0,\n",
    "    'max_depth': 6,\n",
    "    'min_child_weight': 1,\n",
    "    'max_delta_step': 0,\n",
    "    'subsample': 1,\n",
    "    'colsample_bytree': 1,\n",
    "    'colsample_bylevel': 1,\n",
    "    'lambda': 1,\n",
    "    'alpha': 0,\n",
    "    'objective': 'binary:logistic',\n",
    "    'eval_metric': 'auc',\n",
    "    'nthread': 8,\n",
    "    'seed': 42\n",
    "}"
   ]
  },
  {
   "cell_type": "code",
   "execution_count": 48,
   "metadata": {
    "collapsed": false
   },
   "outputs": [
    {
     "name": "stderr",
     "output_type": "stream",
     "text": [
      "[0]\ttrain-auc:0.770331\tval-auc:0.746386\n",
      "[10]\ttrain-auc:0.779498\tval-auc:0.755073\n",
      "[20]\ttrain-auc:0.782698\tval-auc:0.757453\n",
      "[30]\ttrain-auc:0.788296\tval-auc:0.761578\n",
      "[40]\ttrain-auc:0.792206\tval-auc:0.764498\n",
      "[50]\ttrain-auc:0.795856\tval-auc:0.764895\n",
      "[60]\ttrain-auc:0.798147\tval-auc:0.766376\n",
      "[70]\ttrain-auc:0.800251\tval-auc:0.767069\n",
      "[80]\ttrain-auc:0.802492\tval-auc:0.767156\n",
      "[90]\ttrain-auc:0.804297\tval-auc:0.767609\n",
      "[100]\ttrain-auc:0.806101\tval-auc:0.768718\n",
      "[110]\ttrain-auc:0.808090\tval-auc:0.769767\n",
      "[120]\ttrain-auc:0.811202\tval-auc:0.771340\n",
      "[130]\ttrain-auc:0.813151\tval-auc:0.772883\n",
      "[140]\ttrain-auc:0.815301\tval-auc:0.775022\n",
      "[149]\ttrain-auc:0.817036\tval-auc:0.776527\n"
     ]
    }
   ],
   "source": [
    "n_estimators = 150\n",
    "model = xgb.train(xgb_pars, dtrain, num_boost_round=n_estimators, verbose_eval=10, evals=watchlist)"
   ]
  },
  {
   "cell_type": "code",
   "execution_count": 49,
   "metadata": {
    "collapsed": false
   },
   "outputs": [
    {
     "data": {
      "text/plain": [
       "[('pt_cat', 1140),\n",
       " ('desc', 1091),\n",
       " ('price', 1035),\n",
       " ('hfcats_title', 972),\n",
       " ('title_last_seen', 832),\n",
       " ('title', 800),\n",
       " ('category', 693),\n",
       " ('time_from_registration', 691),\n",
       " ('desc_last_seen', 605),\n",
       " ('price_type', 325)]"
      ]
     },
     "execution_count": 49,
     "metadata": {},
     "output_type": "execute_result"
    }
   ],
   "source": [
    "sorted(model.get_fscore().items(), key=lambda (_, c): -c)"
   ]
  },
  {
   "cell_type": "markdown",
   "metadata": {},
   "source": [
    "The most important feature is the interaction between price type and category. No surprize - these features alone were able to give the best AUC. \n",
    "\n",
    "Price is also important, so including it to the model should imrove the performance"
   ]
  }
 ],
 "metadata": {
  "kernelspec": {
   "display_name": "Python 2",
   "language": "python",
   "name": "python2"
  },
  "language_info": {
   "codemirror_mode": {
    "name": "ipython",
    "version": 2
   },
   "file_extension": ".py",
   "mimetype": "text/x-python",
   "name": "python",
   "nbconvert_exporter": "python",
   "pygments_lexer": "ipython2",
   "version": "2.7.11"
  }
 },
 "nbformat": 4,
 "nbformat_minor": 0
}
